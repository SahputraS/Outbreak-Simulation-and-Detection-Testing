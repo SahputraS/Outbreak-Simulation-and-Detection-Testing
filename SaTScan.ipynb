{
  "nbformat": 4,
  "nbformat_minor": 0,
  "metadata": {
    "colab": {
      "provenance": [],
      "authorship_tag": "ABX9TyMSPcWpldg4IHoqTgywWjej",
      "include_colab_link": true
    },
    "kernelspec": {
      "name": "ir",
      "display_name": "R"
    },
    "language_info": {
      "name": "R"
    }
  },
  "cells": [
    {
      "cell_type": "markdown",
      "metadata": {
        "id": "view-in-github",
        "colab_type": "text"
      },
      "source": [
        "<a href=\"https://colab.research.google.com/github/SahputraS/Outbreak-Simulation-and-Detection-Testing/blob/main/SaTScan.ipynb\" target=\"_parent\"><img src=\"https://colab.research.google.com/assets/colab-badge.svg\" alt=\"Open In Colab\"/></a>"
      ]
    },
    {
      "cell_type": "code",
      "source": [
        "install.packages(\"scanstatistics\")\n",
        "install.packages(\"reticulate\")\n",
        "# install.packages(\"remotes\")  # if not already installed\n",
        "# remotes::install_github(\"benjamin-allevius/scanstatistics\")"
      ],
      "metadata": {
        "colab": {
          "base_uri": "https://localhost:8080/"
        },
        "id": "XROwHWTxxoI6",
        "outputId": "b00db3e5-cfd2-4be5-b7ed-6f91753b4e21"
      },
      "execution_count": null,
      "outputs": [
        {
          "output_type": "stream",
          "name": "stderr",
          "text": [
            "Installing package into ‘/usr/local/lib/R/site-library’\n",
            "(as ‘lib’ is unspecified)\n",
            "\n"
          ]
        }
      ]
    },
    {
      "cell_type": "code",
      "source": [
        "library(scanstatistics)\n",
        "library(ggplot2)\n",
        "library(dplyr)\n",
        "library(tidyr)"
      ],
      "metadata": {
        "id": "M1CT5QIj4g14"
      },
      "execution_count": null,
      "outputs": []
    },
    {
      "cell_type": "code",
      "source": [
        "data <- read.csv(\"simulation_data.csv\")\n",
        "data$Population <- data$Susceptible + data$Infected + data$Recovered\n",
        "data$Region <- data$Region + 1\n",
        "head(data)"
      ],
      "metadata": {
        "id": "jwSQyuLr4hvM"
      },
      "execution_count": null,
      "outputs": []
    },
    {
      "cell_type": "code",
      "source": [
        "counts <- data %>%\n",
        "  select(Day, Region, Reported.Cases) %>%\n",
        "  pivot_wider(names_from = Region, values_from = Reported.Cases, values_fill = 0) %>%\n",
        "  arrange(Day)\n",
        "\n",
        "counts_mat <- as.matrix(counts[,-1])  # remove Day column"
      ],
      "metadata": {
        "id": "gC5VqBjOG2SB"
      },
      "execution_count": null,
      "outputs": []
    },
    {
      "cell_type": "code",
      "source": [
        "pop <- data %>%\n",
        "  select(Day, Region, Population) %>%\n",
        "  pivot_wider(names_from = Region, values_from = Population, values_fill = 0) %>%\n",
        "  arrange(Day)\n",
        "\n",
        "pop_mat <- as.matrix(pop[,-1])  # remove Day column"
      ],
      "metadata": {
        "id": "CKXSQx8GG7dp"
      },
      "execution_count": null,
      "outputs": []
    },
    {
      "cell_type": "code",
      "source": [
        "zones1 <- list(1, 2, 3)  # basic sanity test, each region as its own zone\n",
        "\n",
        "zones2 <- list(\n",
        "  c(1),        # test Region 1\n",
        "  c(2),        # test Region 2\n",
        "  c(3),        # test Region 3\n",
        "  c(1, 2),     # test 1 + 2 as one outbreak zone\n",
        "  c(2, 3),      # test 2 + 3 as one outbreak zone\n",
        "  c(1, 3)      # test 1 + 3 as one outbreak zone\n",
        ")"
      ],
      "metadata": {
        "id": "PXEqWrp4IA1_"
      },
      "execution_count": null,
      "outputs": []
    },
    {
      "cell_type": "code",
      "source": [
        "res <- scan_pb_poisson(counts = counts_mat,\n",
        "                       zones = zones2,\n",
        "                       population = pop_mat,\n",
        "                       n_mcsim = 0)"
      ],
      "metadata": {
        "id": "kii1OZdjG8uj"
      },
      "execution_count": null,
      "outputs": []
    },
    {
      "cell_type": "code",
      "source": [
        "res"
      ],
      "metadata": {
        "id": "WKJBag8EHLDE"
      },
      "execution_count": null,
      "outputs": []
    },
    {
      "cell_type": "code",
      "source": [],
      "metadata": {
        "id": "Ui-LdgEQHVtH"
      },
      "execution_count": 9,
      "outputs": []
    }
  ]
}