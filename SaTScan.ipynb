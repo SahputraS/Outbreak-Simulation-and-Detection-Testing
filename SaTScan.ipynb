{
  "nbformat": 4,
  "nbformat_minor": 0,
  "metadata": {
    "colab": {
      "provenance": [],
      "authorship_tag": "ABX9TyMSPcWpldg4IHoqTgywWjej",
      "include_colab_link": true
    },
    "kernelspec": {
      "name": "ir",
      "display_name": "R"
    },
    "language_info": {
      "name": "R"
    }
  },
  "cells": [
    {
      "cell_type": "markdown",
      "metadata": {
        "id": "view-in-github",
        "colab_type": "text"
      },
      "source": [
        "<a href=\"https://colab.research.google.com/github/SahputraS/Outbreak-Simulation-and-Detection-Testing/blob/main/SaTScan.ipynb\" target=\"_parent\"><img src=\"https://colab.research.google.com/assets/colab-badge.svg\" alt=\"Open In Colab\"/></a>"
      ]
    },
    {
      "cell_type": "code",
      "source": [
        "install.packages(\"scanstatistics\")\n",
        "install.packages(\"reticulate\")\n",
        "# install.packages(\"remotes\")  # if not already installed\n",
        "# remotes::install_github(\"benjamin-allevius/scanstatistics\")"
      ],
      "metadata": {
        "colab": {
          "base_uri": "https://localhost:8080/"
        },
        "id": "XROwHWTxxoI6",
        "outputId": "b00db3e5-cfd2-4be5-b7ed-6f91753b4e21"
      },
      "execution_count": 10,
      "outputs": [
        {
          "output_type": "stream",
          "name": "stderr",
          "text": [
            "Installing package into ‘/usr/local/lib/R/site-library’\n",
            "(as ‘lib’ is unspecified)\n",
            "\n",
            "Installing package into ‘/usr/local/lib/R/site-library’\n",
            "(as ‘lib’ is unspecified)\n",
            "\n"
          ]
        }
      ]
    },
    {
      "cell_type": "code",
      "source": [
        "library(scanstatistics)\n",
        "library(ggplot2)\n",
        "library(dplyr)\n",
        "library(tidyr)"
      ],
      "metadata": {
        "id": "M1CT5QIj4g14"
      },
      "execution_count": 11,
      "outputs": []
    },
    {
      "cell_type": "code",
      "source": [
        "data <- read.csv(\"simulation_data.csv\")\n",
        "data$Population <- data$Susceptible + data$Infected + data$Recovered\n",
        "data$Region <- data$Region + 1\n",
        "head(data)"
      ],
      "metadata": {
        "colab": {
          "base_uri": "https://localhost:8080/",
          "height": 286
        },
        "id": "jwSQyuLr4hvM",
        "outputId": "d2636305-800e-4288-b0aa-cd41f74100fb"
      },
      "execution_count": 12,
      "outputs": [
        {
          "output_type": "display_data",
          "data": {
            "text/html": [
              "<table class=\"dataframe\">\n",
              "<caption>A data.frame: 6 × 7</caption>\n",
              "<thead>\n",
              "\t<tr><th></th><th scope=col>Day</th><th scope=col>Region</th><th scope=col>Susceptible</th><th scope=col>Infected</th><th scope=col>Recovered</th><th scope=col>Reported.Cases</th><th scope=col>Population</th></tr>\n",
              "\t<tr><th></th><th scope=col>&lt;int&gt;</th><th scope=col>&lt;dbl&gt;</th><th scope=col>&lt;dbl&gt;</th><th scope=col>&lt;dbl&gt;</th><th scope=col>&lt;dbl&gt;</th><th scope=col>&lt;dbl&gt;</th><th scope=col>&lt;dbl&gt;</th></tr>\n",
              "</thead>\n",
              "<tbody>\n",
              "\t<tr><th scope=row>1</th><td>0</td><td>1</td><td>9985</td><td>10</td><td> 5</td><td>0</td><td>10000</td></tr>\n",
              "\t<tr><th scope=row>2</th><td>1</td><td>1</td><td>9982</td><td>12</td><td> 7</td><td>1</td><td>10001</td></tr>\n",
              "\t<tr><th scope=row>3</th><td>2</td><td>1</td><td>9970</td><td>14</td><td> 5</td><td>0</td><td> 9989</td></tr>\n",
              "\t<tr><th scope=row>4</th><td>3</td><td>1</td><td>9951</td><td> 9</td><td> 6</td><td>1</td><td> 9966</td></tr>\n",
              "\t<tr><th scope=row>5</th><td>4</td><td>1</td><td>9968</td><td> 9</td><td>13</td><td>0</td><td> 9990</td></tr>\n",
              "\t<tr><th scope=row>6</th><td>5</td><td>1</td><td>9993</td><td> 9</td><td>15</td><td>0</td><td>10017</td></tr>\n",
              "</tbody>\n",
              "</table>\n"
            ],
            "text/markdown": "\nA data.frame: 6 × 7\n\n| <!--/--> | Day &lt;int&gt; | Region &lt;dbl&gt; | Susceptible &lt;dbl&gt; | Infected &lt;dbl&gt; | Recovered &lt;dbl&gt; | Reported.Cases &lt;dbl&gt; | Population &lt;dbl&gt; |\n|---|---|---|---|---|---|---|---|\n| 1 | 0 | 1 | 9985 | 10 |  5 | 0 | 10000 |\n| 2 | 1 | 1 | 9982 | 12 |  7 | 1 | 10001 |\n| 3 | 2 | 1 | 9970 | 14 |  5 | 0 |  9989 |\n| 4 | 3 | 1 | 9951 |  9 |  6 | 1 |  9966 |\n| 5 | 4 | 1 | 9968 |  9 | 13 | 0 |  9990 |\n| 6 | 5 | 1 | 9993 |  9 | 15 | 0 | 10017 |\n\n",
            "text/latex": "A data.frame: 6 × 7\n\\begin{tabular}{r|lllllll}\n  & Day & Region & Susceptible & Infected & Recovered & Reported.Cases & Population\\\\\n  & <int> & <dbl> & <dbl> & <dbl> & <dbl> & <dbl> & <dbl>\\\\\n\\hline\n\t1 & 0 & 1 & 9985 & 10 &  5 & 0 & 10000\\\\\n\t2 & 1 & 1 & 9982 & 12 &  7 & 1 & 10001\\\\\n\t3 & 2 & 1 & 9970 & 14 &  5 & 0 &  9989\\\\\n\t4 & 3 & 1 & 9951 &  9 &  6 & 1 &  9966\\\\\n\t5 & 4 & 1 & 9968 &  9 & 13 & 0 &  9990\\\\\n\t6 & 5 & 1 & 9993 &  9 & 15 & 0 & 10017\\\\\n\\end{tabular}\n",
            "text/plain": [
              "  Day Region Susceptible Infected Recovered Reported.Cases Population\n",
              "1 0   1      9985        10        5        0              10000     \n",
              "2 1   1      9982        12        7        1              10001     \n",
              "3 2   1      9970        14        5        0               9989     \n",
              "4 3   1      9951         9        6        1               9966     \n",
              "5 4   1      9968         9       13        0               9990     \n",
              "6 5   1      9993         9       15        0              10017     "
            ]
          },
          "metadata": {}
        }
      ]
    },
    {
      "cell_type": "code",
      "source": [
        "counts <- data %>%\n",
        "  select(Day, Region, Reported.Cases) %>%\n",
        "  pivot_wider(names_from = Region, values_from = Reported.Cases, values_fill = 0) %>%\n",
        "  arrange(Day)\n",
        "\n",
        "counts_mat <- as.matrix(counts[,-1])  # remove Day column"
      ],
      "metadata": {
        "id": "gC5VqBjOG2SB"
      },
      "execution_count": 13,
      "outputs": []
    },
    {
      "cell_type": "code",
      "source": [
        "pop <- data %>%\n",
        "  select(Day, Region, Population) %>%\n",
        "  pivot_wider(names_from = Region, values_from = Population, values_fill = 0) %>%\n",
        "  arrange(Day)\n",
        "\n",
        "pop_mat <- as.matrix(pop[,-1])  # remove Day column"
      ],
      "metadata": {
        "id": "CKXSQx8GG7dp"
      },
      "execution_count": 14,
      "outputs": []
    },
    {
      "cell_type": "code",
      "source": [
        "zones1 <- list(1, 2, 3)  # basic sanity test, each region as its own zone\n",
        "\n",
        "zones2 <- list(\n",
        "  c(1),        # test Region 1\n",
        "  c(2),        # test Region 2\n",
        "  c(3),        # test Region 3\n",
        "  c(1, 2),     # test 1 + 2 as one outbreak zone\n",
        "  c(2, 3),      # test 2 + 3 as one outbreak zone\n",
        "  c(1, 3)      # test 1 + 3 as one outbreak zone\n",
        ")"
      ],
      "metadata": {
        "id": "PXEqWrp4IA1_"
      },
      "execution_count": 15,
      "outputs": []
    },
    {
      "cell_type": "code",
      "source": [
        "res <- scan_pb_poisson(counts = counts_mat,\n",
        "                       zones = zones2,\n",
        "                       population = pop_mat,\n",
        "                       n_mcsim = 0)"
      ],
      "metadata": {
        "id": "kii1OZdjG8uj"
      },
      "execution_count": 16,
      "outputs": []
    },
    {
      "cell_type": "code",
      "source": [
        "res"
      ],
      "metadata": {
        "colab": {
          "base_uri": "https://localhost:8080/",
          "height": 208
        },
        "id": "WKJBag8EHLDE",
        "outputId": "ef8a1053-a292-492b-e6da-9425de9bba61"
      },
      "execution_count": 17,
      "outputs": [
        {
          "output_type": "display_data",
          "data": {
            "text/plain": [
              "Data distribution:                Poisson\n",
              "Type of scan statistic:           population-based\n",
              "Setting:                          univariate\n",
              "Number of locations considered:   3\n",
              "Maximum duration considered:      365\n",
              "Number of spatial zones:          6\n",
              "Number of Monte Carlo replicates: 0\n",
              "Monte Carlo P-value:              NULL\n",
              "Gumbel P-value:                   NULL\n",
              "Most likely event duration:       248\n",
              "ID of locations in MLC:           2, 3"
            ]
          },
          "metadata": {}
        }
      ]
    },
    {
      "cell_type": "code",
      "source": [],
      "metadata": {
        "id": "Ui-LdgEQHVtH"
      },
      "execution_count": 9,
      "outputs": []
    }
  ]
}